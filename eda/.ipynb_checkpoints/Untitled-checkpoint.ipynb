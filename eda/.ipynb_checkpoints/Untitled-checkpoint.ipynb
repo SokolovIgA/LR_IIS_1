{
 "cells": [
  {
   "cell_type": "code",
   "execution_count": null,
   "id": "46a3b20e-7140-48dd-bcae-38e050a873f9",
   "metadata": {},
   "outputs": [],
   "source": []
  }
 ],
 "metadata": {
  "kernelspec": {
   "display_name": "",
   "name": ""
  },
  "language_info": {
   "name": ""
  }
 },
 "nbformat": 4,
 "nbformat_minor": 5
}
